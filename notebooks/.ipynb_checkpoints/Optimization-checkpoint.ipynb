{
 "cells": [
  {
   "cell_type": "code",
   "execution_count": 22,
   "metadata": {},
   "outputs": [],
   "source": [
    "import simnibs\n",
    "import pandas as pd\n",
    "from pathlib import Path\n",
    "import numpy as np"
   ]
  },
  {
   "cell_type": "code",
   "execution_count": 2,
   "metadata": {},
   "outputs": [],
   "source": [
    "cpath = Path('../simnibs/simnibs_examples/ernie/m2m_ernie/eeg_positions/EEG10-10_UI_Jurak_2007.csv')\n",
    "lfpath = Path('../simnibs/leadfield/ernie_leadfield_EEG10-10_UI_Jurak_2007.hdf5')\n",
    "opath = Path('../simnibs/optimization')"
   ]
  },
  {
   "cell_type": "markdown",
   "metadata": {},
   "source": [
    "## Regions of Interest (ROI)"
   ]
  },
  {
   "cell_type": "code",
   "execution_count": 3,
   "metadata": {},
   "outputs": [],
   "source": [
    "coords = pd.read_csv(cpath, names=['type', 'x', 'y', 'z', 'label'])\n",
    "coords.set_index('label', inplace=True)"
   ]
  },
  {
   "cell_type": "code",
   "execution_count": 4,
   "metadata": {},
   "outputs": [
    {
     "data": {
      "text/html": [
       "<div>\n",
       "<style scoped>\n",
       "    .dataframe tbody tr th:only-of-type {\n",
       "        vertical-align: middle;\n",
       "    }\n",
       "\n",
       "    .dataframe tbody tr th {\n",
       "        vertical-align: top;\n",
       "    }\n",
       "\n",
       "    .dataframe thead th {\n",
       "        text-align: right;\n",
       "    }\n",
       "</style>\n",
       "<table border=\"1\" class=\"dataframe\">\n",
       "  <thead>\n",
       "    <tr style=\"text-align: right;\">\n",
       "      <th></th>\n",
       "      <th>type</th>\n",
       "      <th>x</th>\n",
       "      <th>y</th>\n",
       "      <th>z</th>\n",
       "    </tr>\n",
       "    <tr>\n",
       "      <th>label</th>\n",
       "      <th></th>\n",
       "      <th></th>\n",
       "      <th></th>\n",
       "      <th></th>\n",
       "    </tr>\n",
       "  </thead>\n",
       "  <tbody>\n",
       "    <tr>\n",
       "      <th>Fp1</th>\n",
       "      <td>Electrode</td>\n",
       "      <td>-29.978354</td>\n",
       "      <td>86.347839</td>\n",
       "      <td>34.227676</td>\n",
       "    </tr>\n",
       "    <tr>\n",
       "      <th>Fpz</th>\n",
       "      <td>Electrode</td>\n",
       "      <td>-0.062721</td>\n",
       "      <td>90.260612</td>\n",
       "      <td>37.520569</td>\n",
       "    </tr>\n",
       "    <tr>\n",
       "      <th>Fp2</th>\n",
       "      <td>Electrode</td>\n",
       "      <td>29.176073</td>\n",
       "      <td>86.772415</td>\n",
       "      <td>34.051849</td>\n",
       "    </tr>\n",
       "    <tr>\n",
       "      <th>AF7</th>\n",
       "      <td>Electrode</td>\n",
       "      <td>-56.444912</td>\n",
       "      <td>68.893089</td>\n",
       "      <td>29.680189</td>\n",
       "    </tr>\n",
       "    <tr>\n",
       "      <th>AF3</th>\n",
       "      <td>Electrode</td>\n",
       "      <td>-35.011379</td>\n",
       "      <td>76.532974</td>\n",
       "      <td>57.549084</td>\n",
       "    </tr>\n",
       "  </tbody>\n",
       "</table>\n",
       "</div>"
      ],
      "text/plain": [
       "            type          x          y          z\n",
       "label                                            \n",
       "Fp1    Electrode -29.978354  86.347839  34.227676\n",
       "Fpz    Electrode  -0.062721  90.260612  37.520569\n",
       "Fp2    Electrode  29.176073  86.772415  34.051849\n",
       "AF7    Electrode -56.444912  68.893089  29.680189\n",
       "AF3    Electrode -35.011379  76.532974  57.549084"
      ]
     },
     "execution_count": 4,
     "metadata": {},
     "output_type": "execute_result"
    }
   ],
   "source": [
    "coords.head()"
   ]
  },
  {
   "cell_type": "code",
   "execution_count": 5,
   "metadata": {},
   "outputs": [],
   "source": [
    "def get_coords(labels):\n",
    "    return coords.loc[labels, ['x', 'y', 'z']]"
   ]
  },
  {
   "cell_type": "markdown",
   "metadata": {},
   "source": [
    "### EEG to Brodmann's area coordinates"
   ]
  },
  {
   "cell_type": "markdown",
   "metadata": {},
   "source": [
    "#### Prefrontal Cortex"
   ]
  },
  {
   "cell_type": "code",
   "execution_count": 6,
   "metadata": {},
   "outputs": [],
   "source": [
    "BA10 = get_coords(['Fp1','Fp2','Fpz'])"
   ]
  },
  {
   "cell_type": "code",
   "execution_count": 59,
   "metadata": {},
   "outputs": [],
   "source": [
    "BA09 = get_coords(['AF3','AF4', 'AFz'])"
   ]
  },
  {
   "cell_type": "code",
   "execution_count": 8,
   "metadata": {},
   "outputs": [],
   "source": [
    "BA46 = get_coords(['AF7', 'F5', 'AF8', 'F6'])"
   ]
  },
  {
   "cell_type": "markdown",
   "metadata": {},
   "source": [
    "#### Temporal Lobe"
   ]
  },
  {
   "cell_type": "code",
   "execution_count": 9,
   "metadata": {},
   "outputs": [],
   "source": [
    "BA21 = []"
   ]
  },
  {
   "cell_type": "code",
   "execution_count": 10,
   "metadata": {},
   "outputs": [],
   "source": [
    "BA20 = []"
   ]
  },
  {
   "cell_type": "code",
   "execution_count": 11,
   "metadata": {},
   "outputs": [],
   "source": [
    "BA38 = []"
   ]
  },
  {
   "cell_type": "code",
   "execution_count": 12,
   "metadata": {},
   "outputs": [],
   "source": [
    "BA37 = []"
   ]
  },
  {
   "cell_type": "markdown",
   "metadata": {},
   "source": [
    "#### Posterior Parietal Cortex"
   ]
  },
  {
   "cell_type": "code",
   "execution_count": 13,
   "metadata": {},
   "outputs": [],
   "source": [
    "BA40 = []"
   ]
  },
  {
   "cell_type": "code",
   "execution_count": 14,
   "metadata": {},
   "outputs": [],
   "source": [
    "BA07 = []"
   ]
  },
  {
   "cell_type": "markdown",
   "metadata": {},
   "source": [
    "## Prefrontal Optimization"
   ]
  },
  {
   "cell_type": "code",
   "execution_count": 50,
   "metadata": {},
   "outputs": [],
   "source": [
    "class Optimizer(object):\n",
    "    def __init__(self, total_current, individual_current, n_electrodes, name:Path):\n",
    "        self.total_current = total_current\n",
    "        self.individual_current = individual_current\n",
    "        self.n_electrodes = n_electrodes\n",
    "        self.targets = []\n",
    "        self.avoids = []\n",
    "        self.opt = simnibs.opt_struct.TDCSoptimize(leadfield_hdf=lfpath,\n",
    "                                                   max_total_current=total_current,\n",
    "                                                   max_individual_current=individual_current,\n",
    "                                                   max_active_electrodes=n_electrodes,\n",
    "                                                   name=str(name))\n",
    "    def add_target(self, positions, intensity):\n",
    "        t = self.opt.add_target()\n",
    "        t.positions = positions\n",
    "        t.intensity = intensity\n",
    "        self.targets.append(t)\n",
    "        \n",
    "    def add_avoid(self, positions, intensity):\n",
    "        a = self.opt.add_avoid()\n",
    "        a.positions = positions\n",
    "        a.intensity = intensity\n",
    "        self.avoids.append(a)\n",
    "        \n",
    "    def run(self):\n",
    "        simnibs.run_simnibs(self.opt)"
   ]
  },
  {
   "cell_type": "code",
   "execution_count": 51,
   "metadata": {},
   "outputs": [],
   "source": [
    "fp1, fp2, fpz = np.array(BA10)"
   ]
  },
  {
   "cell_type": "code",
   "execution_count": 55,
   "metadata": {
    "collapsed": true,
    "jupyter": {
     "outputs_hidden": true
    }
   },
   "outputs": [
    {
     "name": "stderr",
     "output_type": "stream",
     "text": [
      "[ simnibs ]INFO: Optimizing\n",
      "[ simnibs ]SUMMARY: Optimization set-up\n",
      "===========================\n",
      "Leadfield file: ../simnibs/leadfield/ernie_leadfield_EEG10-10_UI_Jurak_2007.hdf5\n",
      "Max. total current: 0.002 (A)\n",
      "Max. individual current: 0.001 (A)\n",
      "Max. active electrodes: 5\n",
      "Name: ../simnibs/optimization/fp1\n",
      "----------------------\n",
      "N targets: 1\n",
      "Target 1:\n",
      "positions: [-29.9784  86.3478  34.2277]\n",
      "indexes: None\n",
      "directions: normal\n",
      "radius: 2\n",
      "intensity: 100\n",
      "max_angle: None\n",
      "tissues: None\n",
      "----------------------\n",
      "N avoid: 0\n",
      "\n",
      "[ simnibs ]SUMMARY: \n",
      "Optimization Summary\n",
      "=============================\n",
      "Total current: 2.00e-03 (A)\n",
      "Maximum current: 1.00e-03 (A)\n",
      "Active electrodes: 5\n",
      "Field Summary\n",
      "----------------------------\n",
      "Peak Value (99.9 percentile): 1.14 (E)\n",
      "Mean field norm: 1.90e-01 (E)\n",
      "Focality: 50%: 1.23e+03 70%: 5.95e+02 (mm2)\n",
      "Target 1\n",
      "    Intensity specified:100.00 achieved: 0.21 (E)\n",
      "    Average angle across target: 42.2 (degrees)\n",
      "\n",
      "[ simnibs ]SUMMARY: \n",
      "=====================================\n",
      "SimNIBS finished running optimization\n",
      "Mesh file: ../simnibs/optimization/fp1.msh\n",
      "CSV file: ../simnibs/optimization/fp1.csv\n",
      "Summary file: ../simnibs/optimization/fp1_summary.txt\n",
      "=====================================\n",
      "Exception in thread Thread-7:\n",
      "Traceback (most recent call last):\n",
      "  File \"/home/mark/anaconda3/envs/zen_env/lib/python3.7/threading.py\", line 926, in _bootstrap_inner\n",
      "    self.run()\n",
      "  File \"/home/mark/anaconda3/envs/zen_env/lib/python3.7/threading.py\", line 870, in run\n",
      "    self._target(*self._args, **self._kwargs)\n",
      "  File \"/home/mark/anaconda3/envs/zen_env/lib/python3.7/subprocess.py\", line 487, in run\n",
      "    output=stdout, stderr=stderr)\n",
      "subprocess.CalledProcessError: Command '['/home/mark/anaconda3/envs/zen_env/lib/python3.7/site-packages/simnibs/bin/linux/gmsh', '/home/mark/Desktop/Insai/insai-tes-simulations/simnibs/optimization/fp1.msh']' returned non-zero exit status 1.\n",
      "\n"
     ]
    }
   ],
   "source": [
    "opt = Optimizer(2e-3, 1e-3, 5, name=opath/'fp1')\n",
    "opt.add_target(fp1, 100)\n",
    "opt.run()"
   ]
  },
  {
   "cell_type": "code",
   "execution_count": 57,
   "metadata": {
    "collapsed": true,
    "jupyter": {
     "outputs_hidden": true
    }
   },
   "outputs": [
    {
     "name": "stderr",
     "output_type": "stream",
     "text": [
      "[ simnibs ]INFO: Optimizing\n",
      "[ simnibs ]SUMMARY: Optimization set-up\n",
      "===========================\n",
      "Leadfield file: ../simnibs/leadfield/ernie_leadfield_EEG10-10_UI_Jurak_2007.hdf5\n",
      "Max. total current: 0.002 (A)\n",
      "Max. individual current: 0.001 (A)\n",
      "Max. active electrodes: 5\n",
      "Name: ../simnibs/optimization/fp2\n",
      "----------------------\n",
      "N targets: 1\n",
      "Target 1:\n",
      "positions: [29.1761 86.7724 34.0518]\n",
      "indexes: None\n",
      "directions: normal\n",
      "radius: 2\n",
      "intensity: 100\n",
      "max_angle: None\n",
      "tissues: None\n",
      "----------------------\n",
      "N avoid: 0\n",
      "\n",
      "[ simnibs ]SUMMARY: \n",
      "Optimization Summary\n",
      "=============================\n",
      "Total current: 2.00e-03 (A)\n",
      "Maximum current: 1.00e-03 (A)\n",
      "Active electrodes: 5\n",
      "Field Summary\n",
      "----------------------------\n",
      "Peak Value (99.9 percentile): 1.00 (E)\n",
      "Mean field norm: 1.28e-01 (E)\n",
      "Focality: 50%: 1.68e+03 70%: 5.91e+02 (mm2)\n",
      "Target 1\n",
      "    Intensity specified:100.00 achieved: 0.31 (E)\n",
      "    Average angle across target: 36.7 (degrees)\n",
      "\n",
      "[ simnibs ]SUMMARY: \n",
      "=====================================\n",
      "SimNIBS finished running optimization\n",
      "Mesh file: ../simnibs/optimization/fp2.msh\n",
      "CSV file: ../simnibs/optimization/fp2.csv\n",
      "Summary file: ../simnibs/optimization/fp2_summary.txt\n",
      "=====================================\n",
      "Exception in thread Thread-9:\n",
      "Traceback (most recent call last):\n",
      "  File \"/home/mark/anaconda3/envs/zen_env/lib/python3.7/threading.py\", line 926, in _bootstrap_inner\n",
      "    self.run()\n",
      "  File \"/home/mark/anaconda3/envs/zen_env/lib/python3.7/threading.py\", line 870, in run\n",
      "    self._target(*self._args, **self._kwargs)\n",
      "  File \"/home/mark/anaconda3/envs/zen_env/lib/python3.7/subprocess.py\", line 487, in run\n",
      "    output=stdout, stderr=stderr)\n",
      "subprocess.CalledProcessError: Command '['/home/mark/anaconda3/envs/zen_env/lib/python3.7/site-packages/simnibs/bin/linux/gmsh', '/home/mark/Desktop/Insai/insai-tes-simulations/simnibs/optimization/fp2.msh']' returned non-zero exit status 1.\n",
      "\n"
     ]
    }
   ],
   "source": [
    "opt = Optimizer(2e-3, 1e-3, 5, name=opath/'fp2')\n",
    "opt.add_target(fp2, 100)\n",
    "opt.run()"
   ]
  },
  {
   "cell_type": "code",
   "execution_count": 58,
   "metadata": {
    "collapsed": true,
    "jupyter": {
     "outputs_hidden": true
    }
   },
   "outputs": [
    {
     "name": "stderr",
     "output_type": "stream",
     "text": [
      "[ simnibs ]INFO: Optimizing\n",
      "[ simnibs ]SUMMARY: Optimization set-up\n",
      "===========================\n",
      "Leadfield file: ../simnibs/leadfield/ernie_leadfield_EEG10-10_UI_Jurak_2007.hdf5\n",
      "Max. total current: 0.002 (A)\n",
      "Max. individual current: 0.001 (A)\n",
      "Max. active electrodes: 5\n",
      "Name: ../simnibs/optimization/fpz\n",
      "----------------------\n",
      "N targets: 1\n",
      "Target 1:\n",
      "positions: [-6.2721e-02  9.0261e+01  3.7521e+01]\n",
      "indexes: None\n",
      "directions: normal\n",
      "radius: 2\n",
      "intensity: 100\n",
      "max_angle: None\n",
      "tissues: None\n",
      "----------------------\n",
      "N avoid: 0\n",
      "\n",
      "[ simnibs ]SUMMARY: \n",
      "Optimization Summary\n",
      "=============================\n",
      "Total current: 2.00e-03 (A)\n",
      "Maximum current: 1.00e-03 (A)\n",
      "Active electrodes: 5\n",
      "Field Summary\n",
      "----------------------------\n",
      "Peak Value (99.9 percentile): 0.69 (E)\n",
      "Mean field norm: 1.75e-01 (E)\n",
      "Focality: 50%: 1.42e+04 70%: 2.66e+03 (mm2)\n",
      "Target 1\n",
      "    Intensity specified:100.00 achieved: 0.16 (E)\n",
      "    Average angle across target: 48.4 (degrees)\n",
      "\n",
      "[ simnibs ]SUMMARY: \n",
      "=====================================\n",
      "SimNIBS finished running optimization\n",
      "Mesh file: ../simnibs/optimization/fpz.msh\n",
      "CSV file: ../simnibs/optimization/fpz.csv\n",
      "Summary file: ../simnibs/optimization/fpz_summary.txt\n",
      "=====================================\n",
      "Exception in thread Thread-10:\n",
      "Traceback (most recent call last):\n",
      "  File \"/home/mark/anaconda3/envs/zen_env/lib/python3.7/threading.py\", line 926, in _bootstrap_inner\n",
      "    self.run()\n",
      "  File \"/home/mark/anaconda3/envs/zen_env/lib/python3.7/threading.py\", line 870, in run\n",
      "    self._target(*self._args, **self._kwargs)\n",
      "  File \"/home/mark/anaconda3/envs/zen_env/lib/python3.7/subprocess.py\", line 487, in run\n",
      "    output=stdout, stderr=stderr)\n",
      "subprocess.CalledProcessError: Command '['/home/mark/anaconda3/envs/zen_env/lib/python3.7/site-packages/simnibs/bin/linux/gmsh', '/home/mark/Desktop/Insai/insai-tes-simulations/simnibs/optimization/fpz.msh']' returned non-zero exit status 1.\n",
      "\n"
     ]
    }
   ],
   "source": [
    "opt = Optimizer(2e-3, 1e-3, 5, name=opath/'fpz')\n",
    "opt.add_target(fpz, 100)\n",
    "opt.run()"
   ]
  },
  {
   "cell_type": "code",
   "execution_count": 60,
   "metadata": {},
   "outputs": [],
   "source": [
    "af3, af4, afz = np.array(BA09)"
   ]
  },
  {
   "cell_type": "code",
   "execution_count": 61,
   "metadata": {
    "collapsed": true,
    "jupyter": {
     "outputs_hidden": true
    }
   },
   "outputs": [
    {
     "name": "stderr",
     "output_type": "stream",
     "text": [
      "[ simnibs ]INFO: Optimizing\n",
      "[ simnibs ]SUMMARY: Optimization set-up\n",
      "===========================\n",
      "Leadfield file: ../simnibs/leadfield/ernie_leadfield_EEG10-10_UI_Jurak_2007.hdf5\n",
      "Max. total current: 0.002 (A)\n",
      "Max. individual current: 0.001 (A)\n",
      "Max. active electrodes: 5\n",
      "Name: ../simnibs/optimization/af3\n",
      "----------------------\n",
      "N targets: 1\n",
      "Target 1:\n",
      "positions: [-35.0114  76.533   57.5491]\n",
      "indexes: None\n",
      "directions: normal\n",
      "radius: 2\n",
      "intensity: 100\n",
      "max_angle: None\n",
      "tissues: None\n",
      "----------------------\n",
      "N avoid: 0\n",
      "\n",
      "[ simnibs ]SUMMARY: \n",
      "Optimization Summary\n",
      "=============================\n",
      "Total current: 2.00e-03 (A)\n",
      "Maximum current: 1.00e-03 (A)\n",
      "Active electrodes: 5\n",
      "Field Summary\n",
      "----------------------------\n",
      "Peak Value (99.9 percentile): 0.77 (E)\n",
      "Mean field norm: 1.16e-01 (E)\n",
      "Focality: 50%: 3.21e+03 70%: 9.37e+02 (mm2)\n",
      "Target 1\n",
      "    Intensity specified:100.00 achieved: 0.23 (E)\n",
      "    Average angle across target: 36.5 (degrees)\n",
      "\n",
      "[ simnibs ]SUMMARY: \n",
      "=====================================\n",
      "SimNIBS finished running optimization\n",
      "Mesh file: ../simnibs/optimization/af3.msh\n",
      "CSV file: ../simnibs/optimization/af3.csv\n",
      "Summary file: ../simnibs/optimization/af3_summary.txt\n",
      "=====================================\n",
      "Exception in thread Thread-11:\n",
      "Traceback (most recent call last):\n",
      "  File \"/home/mark/anaconda3/envs/zen_env/lib/python3.7/threading.py\", line 926, in _bootstrap_inner\n",
      "    self.run()\n",
      "  File \"/home/mark/anaconda3/envs/zen_env/lib/python3.7/threading.py\", line 870, in run\n",
      "    self._target(*self._args, **self._kwargs)\n",
      "  File \"/home/mark/anaconda3/envs/zen_env/lib/python3.7/subprocess.py\", line 487, in run\n",
      "    output=stdout, stderr=stderr)\n",
      "subprocess.CalledProcessError: Command '['/home/mark/anaconda3/envs/zen_env/lib/python3.7/site-packages/simnibs/bin/linux/gmsh', '/home/mark/Desktop/Insai/insai-tes-simulations/simnibs/optimization/af3.msh']' returned non-zero exit status 1.\n",
      "\n"
     ]
    }
   ],
   "source": [
    "opt = Optimizer(2e-3, 1e-3, 5, name=opath/'af3')\n",
    "opt.add_target(af3, 100)\n",
    "opt.run()"
   ]
  },
  {
   "cell_type": "code",
   "execution_count": 62,
   "metadata": {
    "collapsed": true,
    "jupyter": {
     "outputs_hidden": true
    }
   },
   "outputs": [
    {
     "name": "stderr",
     "output_type": "stream",
     "text": [
      "[ simnibs ]INFO: Optimizing\n",
      "[ simnibs ]SUMMARY: Optimization set-up\n",
      "===========================\n",
      "Leadfield file: ../simnibs/leadfield/ernie_leadfield_EEG10-10_UI_Jurak_2007.hdf5\n",
      "Max. total current: 0.002 (A)\n",
      "Max. individual current: 0.001 (A)\n",
      "Max. active electrodes: 5\n",
      "Name: ../simnibs/optimization/af4\n",
      "----------------------\n",
      "N targets: 1\n",
      "Target 1:\n",
      "positions: [35.9274 78.3291 57.7061]\n",
      "indexes: None\n",
      "directions: normal\n",
      "radius: 2\n",
      "intensity: 100\n",
      "max_angle: None\n",
      "tissues: None\n",
      "----------------------\n",
      "N avoid: 0\n",
      "\n",
      "[ simnibs ]SUMMARY: \n",
      "Optimization Summary\n",
      "=============================\n",
      "Total current: 2.00e-03 (A)\n",
      "Maximum current: 1.00e-03 (A)\n",
      "Active electrodes: 5\n",
      "Field Summary\n",
      "----------------------------\n",
      "Peak Value (99.9 percentile): 1.05 (E)\n",
      "Mean field norm: 1.84e-01 (E)\n",
      "Focality: 50%: 1.16e+03 70%: 6.10e+02 (mm2)\n",
      "Target 1\n",
      "    Intensity specified:100.00 achieved: 0.26 (E)\n",
      "    Average angle across target: 39.1 (degrees)\n",
      "\n",
      "[ simnibs ]SUMMARY: \n",
      "=====================================\n",
      "SimNIBS finished running optimization\n",
      "Mesh file: ../simnibs/optimization/af4.msh\n",
      "CSV file: ../simnibs/optimization/af4.csv\n",
      "Summary file: ../simnibs/optimization/af4_summary.txt\n",
      "=====================================\n",
      "Exception in thread Thread-12:\n",
      "Traceback (most recent call last):\n",
      "  File \"/home/mark/anaconda3/envs/zen_env/lib/python3.7/threading.py\", line 926, in _bootstrap_inner\n",
      "    self.run()\n",
      "  File \"/home/mark/anaconda3/envs/zen_env/lib/python3.7/threading.py\", line 870, in run\n",
      "    self._target(*self._args, **self._kwargs)\n",
      "  File \"/home/mark/anaconda3/envs/zen_env/lib/python3.7/subprocess.py\", line 487, in run\n",
      "    output=stdout, stderr=stderr)\n",
      "subprocess.CalledProcessError: Command '['/home/mark/anaconda3/envs/zen_env/lib/python3.7/site-packages/simnibs/bin/linux/gmsh', '/home/mark/Desktop/Insai/insai-tes-simulations/simnibs/optimization/af4.msh']' returned non-zero exit status 1.\n",
      "\n"
     ]
    }
   ],
   "source": [
    "opt = Optimizer(2e-3, 1e-3, 5, name=opath/'af4')\n",
    "opt.add_target(af4, 100)\n",
    "opt.run()"
   ]
  },
  {
   "cell_type": "code",
   "execution_count": 63,
   "metadata": {
    "collapsed": true,
    "jupyter": {
     "outputs_hidden": true
    }
   },
   "outputs": [
    {
     "name": "stderr",
     "output_type": "stream",
     "text": [
      "[ simnibs ]INFO: Optimizing\n",
      "[ simnibs ]SUMMARY: Optimization set-up\n",
      "===========================\n",
      "Leadfield file: ../simnibs/leadfield/ernie_leadfield_EEG10-10_UI_Jurak_2007.hdf5\n",
      "Max. total current: 0.002 (A)\n",
      "Max. individual current: 0.001 (A)\n",
      "Max. active electrodes: 5\n",
      "Name: ../simnibs/optimization/afz\n",
      "----------------------\n",
      "N targets: 1\n",
      "Target 1:\n",
      "positions: [ 0.2769 81.8794 69.8227]\n",
      "indexes: None\n",
      "directions: normal\n",
      "radius: 2\n",
      "intensity: 100\n",
      "max_angle: None\n",
      "tissues: None\n",
      "----------------------\n",
      "N avoid: 0\n",
      "\n",
      "[ simnibs ]SUMMARY: \n",
      "Optimization Summary\n",
      "=============================\n",
      "Total current: 2.00e-03 (A)\n",
      "Maximum current: 1.00e-03 (A)\n",
      "Active electrodes: 5\n",
      "Field Summary\n",
      "----------------------------\n",
      "Peak Value (99.9 percentile): 0.67 (E)\n",
      "Mean field norm: 1.37e-01 (E)\n",
      "Focality: 50%: 9.30e+03 70%: 2.42e+03 (mm2)\n",
      "Target 1\n",
      "    Intensity specified:100.00 achieved: 0.21 (E)\n",
      "    Average angle across target: 33.8 (degrees)\n",
      "\n",
      "[ simnibs ]SUMMARY: \n",
      "=====================================\n",
      "SimNIBS finished running optimization\n",
      "Mesh file: ../simnibs/optimization/afz.msh\n",
      "CSV file: ../simnibs/optimization/afz.csv\n",
      "Summary file: ../simnibs/optimization/afz_summary.txt\n",
      "=====================================\n",
      "Exception in thread Thread-13:\n",
      "Traceback (most recent call last):\n",
      "  File \"/home/mark/anaconda3/envs/zen_env/lib/python3.7/threading.py\", line 926, in _bootstrap_inner\n",
      "    self.run()\n",
      "  File \"/home/mark/anaconda3/envs/zen_env/lib/python3.7/threading.py\", line 870, in run\n",
      "    self._target(*self._args, **self._kwargs)\n",
      "  File \"/home/mark/anaconda3/envs/zen_env/lib/python3.7/subprocess.py\", line 487, in run\n",
      "    output=stdout, stderr=stderr)\n",
      "subprocess.CalledProcessError: Command '['/home/mark/anaconda3/envs/zen_env/lib/python3.7/site-packages/simnibs/bin/linux/gmsh', '/home/mark/Desktop/Insai/insai-tes-simulations/simnibs/optimization/afz.msh']' returned non-zero exit status 1.\n",
      "\n"
     ]
    }
   ],
   "source": [
    "opt = Optimizer(2e-3, 1e-3, 5, name=opath/'afz')\n",
    "opt.add_target(afz, 100)\n",
    "opt.run()"
   ]
  },
  {
   "cell_type": "code",
   "execution_count": null,
   "metadata": {},
   "outputs": [],
   "source": []
  }
 ],
 "metadata": {
  "kernelspec": {
   "display_name": "Python 3",
   "language": "python",
   "name": "python3"
  },
  "language_info": {
   "codemirror_mode": {
    "name": "ipython",
    "version": 3
   },
   "file_extension": ".py",
   "mimetype": "text/x-python",
   "name": "python",
   "nbconvert_exporter": "python",
   "pygments_lexer": "ipython3",
   "version": "3.7.4"
  }
 },
 "nbformat": 4,
 "nbformat_minor": 4
}
